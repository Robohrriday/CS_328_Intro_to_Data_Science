{
 "cells": [
  {
   "cell_type": "markdown",
   "metadata": {},
   "source": [
    "## $\\text{CS 328: Introduction to Data Science}$\n",
    "### $\\text{Homework 1}$\n",
    "Submission by:<br>\n",
    "Hrriday Viraj Ruparel<br>\n",
    "22110099<br>\n",
    "hrriday.ruparel@iitgn.ac.in<br>"
   ]
  },
  {
   "cell_type": "markdown",
   "metadata": {},
   "source": [
    "Importing Libraries"
   ]
  },
  {
   "cell_type": "code",
   "execution_count": 1,
   "metadata": {},
   "outputs": [],
   "source": [
    "import numpy as np\n",
    "import pandas as pd\n",
    "import matplotlib.pyplot as plt"
   ]
  },
  {
   "cell_type": "markdown",
   "metadata": {},
   "source": [
    "### Question 1:  For the k-means problem, show that there is at most a factor of four ratio between the optimal value when we either require all cluster centers to be data points or allow arbitrary points to be centers. "
   ]
  },
  {
   "cell_type": "markdown",
   "metadata": {},
   "source": [
    "**Given:** k-Means Problem<br>\n",
    "**To Show:**<br>\n",
    "$$\\text{OPT}_{restricted} \\leq 4\\times \\text{OPT}_{any}$$\n",
    "where,<br> \n",
    "$$\\text{OPT}_{restricted} := \\text{Optimal k-means solution when cluster centers are among the input points}$$\n",
    "$$\\text{OPT}_{any} := \\text{Optimal k-means solution when cluster centers can be arbitrary points}$$ \n",
    "**Solution:**<br>\n",
    "Let $C$ be the set of clusters $C_i$ in the $\\text{OPT}_{any}$ solution, with cluster centers $c_i, \\; 1\\leq i \\leq k, \\; k \\in \\mathbb{N}$ at arbitrary points.<br>\n",
    "Let $SOL$ be the set of clusters $X_i$ in the restricted solution, with cluster centers $x_i \\in X_i, \\; 1\\leq i \\leq k, \\; k \\in \\mathbb{N}$ and the cluster centers are among the input points.<br>\n",
    "The k-means problem is defined as follows:\n",
    "$$\\text{cost(C)} = \\sum_{x} \\min_{c_i}\\text{cost}(x,c_i), \\; x \\; \\text{are the input points and} \\; c_i \\; \\text{are the cluster centers.}$$\n",
    "$$\\text{cost(x,y)} = d^{2}(x,y), \\; d(x,y) \\; \\text{is L2 norm or Euclidean norm}$$\n",
    "which simplifies to,<br>\n",
    "$$ \\text{cost(C)} = \\sum_{i = 1}^{k} \\sum_{x \\in C_i} d^2(x,c_i), \\; x \\; \\text{are the input points and} \\; c_i \\; \\text{are the cluster centers.} \\qquad \\longrightarrow \\qquad (1)$$\n",
    "$$c_i = \\dfrac{\\sum_{x \\in C_i} x}{|C_i|}$$\n",
    "Let $x_i$ be such that its squared euclidean norm with respect to its corresponding cluster center $c_i$ is the least as compared to that of every other point in the cluster, i.e.,\n",
    "$$x_i = \\argmin_{x \\in C_i} d^2(x,c_i)$$\n",
    "Therefore,<br>\n",
    "$$d^2(x_i,c_i) \\leq d^2(y,c_i), \\forall y \\in C_i \\qquad \\longrightarrow \\qquad (2)$$\n",
    "By Triangle Inequality,\n",
    "$$d(y,x_i) \\leq d(x_i,c_i) + d(y,c_i), \\forall y \\in C_i$$\n",
    "Squaring both sides,\n",
    "$$d^2(y,x_i) \\leq d^2(x_i,c_i) + d^2(y,c_i) + 2\\times d(x_i,c_i) \\times d(y,c_i) \\leq 2\\times (d^2(x_i,c_i) + d^2(y,c_i)), \\forall y \\in C_i$$\n",
    "Using equation (2),\n",
    "$$d^2(y,x_i) \\leq  2\\times (2\\times d^2(y,c_i)) \\implies d^2(y,x_i) \\leq  4\\times d^2(y,c_i) \\qquad \\longrightarrow \\qquad (3)$$\n",
    "Summing over all $y \\in C_i$,\n",
    "$$ \\sum_{y \\in C_i} d^2(y,x_i) \\leq  4\\times \\sum_{y \\in C_i} d^2(y,c_i) $$\n",
    "Summing over all k clusters,\n",
    "$$ \\sum_{i=1}^{k} \\sum_{y \\in C_i} d^2(y,x_i) \\leq  4\\times \\sum_{i=1}^{k}  \\sum_{y \\in C_i} d^2(y,c_i) $$\n",
    "Using equation (1),\n",
    "$$ \\text{cost}(SOL) \\leq 4\\times \\text{cost}(OPT_{any}) \\qquad \\longrightarrow \\qquad (4)$$\n",
    "$$ X_i \\; \\text{be the cluster with cluster center} \\; x_i$$\n",
    "Also, using equation(4) \n",
    "$$ \\text{cost}(OPT_{restricted}) \\leq \\text{cost}(SOL) \\implies \\text{cost}(OPT_{restricted}) \\leq \\text{cost}(SOL) \\leq 4\\times \\text{cost}(OPT_{any})$$\n",
    "Hence,\n",
    "$$ \\text{cost}(OPT_{restricted}) \\leq 4\\times \\text{cost}(OPT_{any})$$"
   ]
  },
  {
   "cell_type": "markdown",
   "metadata": {},
   "source": [
    "### Question 2: Create a random variable X for which Markov’s inequality is tight. Give proof for your answer. If it is  tight, then why are we using other inequalities e.g. Chebyshev and Chernoff?"
   ]
  },
  {
   "cell_type": "code",
   "execution_count": null,
   "metadata": {},
   "outputs": [],
   "source": []
  },
  {
   "cell_type": "markdown",
   "metadata": {},
   "source": [
    "### Question 3:  Download the MNIST dataset from https://www.kaggle.com/datasets/hojjatk/mnist-dataset?resource=download. We will use the test dataset and test labels only."
   ]
  },
  {
   "cell_type": "markdown",
   "metadata": {},
   "source": [
    "Loading the data"
   ]
  },
  {
   "cell_type": "code",
   "execution_count": null,
   "metadata": {},
   "outputs": [],
   "source": []
  },
  {
   "cell_type": "markdown",
   "metadata": {},
   "source": [
    "#### Cluster them first using k-means clustering, k = 10, with kmeans++ initialization (implement the complete Lloyd’s algorithm yourself). Check the Rand-index of the clustering against the true labels. Use the sklearn module for rand-index."
   ]
  }
 ],
 "metadata": {
  "kernelspec": {
   "display_name": ".venv",
   "language": "python",
   "name": "python3"
  },
  "language_info": {
   "codemirror_mode": {
    "name": "ipython",
    "version": 3
   },
   "file_extension": ".py",
   "mimetype": "text/x-python",
   "name": "python",
   "nbconvert_exporter": "python",
   "pygments_lexer": "ipython3",
   "version": "3.12.0"
  }
 },
 "nbformat": 4,
 "nbformat_minor": 2
}
